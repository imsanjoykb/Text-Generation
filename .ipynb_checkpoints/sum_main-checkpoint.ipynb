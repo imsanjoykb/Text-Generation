{
 "cells": [
  {
   "cell_type": "markdown",
   "id": "2a09f03d",
   "metadata": {},
   "source": [
    "### Author : Sanjoy Biswas\n",
    "### Email : sanjoy.eee32@gmail.com\n",
    "### Portfolio : https://imsanjoykb.github.io/"
   ]
  },
  {
   "cell_type": "markdown",
   "id": "22150568",
   "metadata": {},
   "source": [
    "### Import Libraries"
   ]
  },
  {
   "cell_type": "code",
   "execution_count": 1,
   "id": "ec34555a",
   "metadata": {},
   "outputs": [],
   "source": [
    "import numpy as np\n",
    "import pandas as pd\n",
    "import matplotlib.pyplot as plt\n",
    "import re\n",
    "import os\n",
    "import csv\n",
    "import mysql.connector\n",
    "from sqlalchemy import create_engine\n",
    "import pymysql\n",
    "import pandas as pd"
   ]
  },
  {
   "cell_type": "code",
   "execution_count": 22,
   "id": "cfa59cac",
   "metadata": {},
   "outputs": [
    {
     "data": {
      "text/html": [
       "<div>\n",
       "<style scoped>\n",
       "    .dataframe tbody tr th:only-of-type {\n",
       "        vertical-align: middle;\n",
       "    }\n",
       "\n",
       "    .dataframe tbody tr th {\n",
       "        vertical-align: top;\n",
       "    }\n",
       "\n",
       "    .dataframe thead th {\n",
       "        text-align: right;\n",
       "    }\n",
       "</style>\n",
       "<table border=\"1\" class=\"dataframe\">\n",
       "  <thead>\n",
       "    <tr style=\"text-align: right;\">\n",
       "      <th></th>\n",
       "      <th>0</th>\n",
       "    </tr>\n",
       "  </thead>\n",
       "  <tbody>\n",
       "    <tr>\n",
       "      <th>0</th>\n",
       "      <td>Cristiano Ronaldo match-winning goal in the Ch...</td>\n",
       "    </tr>\n",
       "  </tbody>\n",
       "</table>\n",
       "</div>"
      ],
      "text/plain": [
       "                                                   0\n",
       "0  Cristiano Ronaldo match-winning goal in the Ch..."
      ]
     },
     "execution_count": 22,
     "metadata": {},
     "output_type": "execute_result"
    }
   ],
   "source": [
    "## Import datafile\n",
    "df = pd.read_csv(r'E:\\AiBeesAsst\\AI Bees Project\\Data Branch\\generatefile.csv', header=None, error_bad_lines = True)\n",
    "df.head()"
   ]
  },
  {
   "cell_type": "code",
   "execution_count": 23,
   "id": "690095e7",
   "metadata": {},
   "outputs": [
    {
     "data": {
      "text/html": [
       "<div>\n",
       "<style scoped>\n",
       "    .dataframe tbody tr th:only-of-type {\n",
       "        vertical-align: middle;\n",
       "    }\n",
       "\n",
       "    .dataframe tbody tr th {\n",
       "        vertical-align: top;\n",
       "    }\n",
       "\n",
       "    .dataframe thead th {\n",
       "        text-align: right;\n",
       "    }\n",
       "</style>\n",
       "<table border=\"1\" class=\"dataframe\">\n",
       "  <thead>\n",
       "    <tr style=\"text-align: right;\">\n",
       "      <th></th>\n",
       "      <th>0</th>\n",
       "    </tr>\n",
       "  </thead>\n",
       "  <tbody>\n",
       "    <tr>\n",
       "      <th>0</th>\n",
       "      <td>False</td>\n",
       "    </tr>\n",
       "  </tbody>\n",
       "</table>\n",
       "</div>"
      ],
      "text/plain": [
       "       0\n",
       "0  False"
      ]
     },
     "execution_count": 23,
     "metadata": {},
     "output_type": "execute_result"
    }
   ],
   "source": [
    "## Checking Null\n",
    "df.isnull() "
   ]
  },
  {
   "cell_type": "code",
   "execution_count": 24,
   "id": "b9dce70a",
   "metadata": {},
   "outputs": [],
   "source": [
    "## Save updated file\n",
    "df.to_csv('E:\\AiBeesAsst\\AI Bees Project\\Data Branch\\generatefileupdated.csv',index=False,header=False)"
   ]
  },
  {
   "cell_type": "markdown",
   "id": "3a61e9c0",
   "metadata": {},
   "source": [
    "### Connect With Database"
   ]
  },
  {
   "cell_type": "code",
   "execution_count": 25,
   "id": "feace7c6",
   "metadata": {},
   "outputs": [
    {
     "name": "stdout",
     "output_type": "stream",
     "text": [
      "Database connected successfully!!\n"
     ]
    }
   ],
   "source": [
    "mydb = mysql.connector.connect(host = 'localhost', user = 'root', database = 'textgeneration')\n",
    "print('Database connected successfully!!')"
   ]
  },
  {
   "cell_type": "code",
   "execution_count": 26,
   "id": "ab4c45f8",
   "metadata": {},
   "outputs": [
    {
     "name": "stdout",
     "output_type": "stream",
     "text": [
      "['Cristiano Ronaldo match-winning goal in the Champions League']\n",
      "Its Done\n"
     ]
    }
   ],
   "source": [
    "cursor = mydb.cursor()\n",
    "csv_data = csv.reader(open('generatefileupdated.csv'))\n",
    "for row in csv_data:\n",
    "    cursor.execute('INSERT INTO textgenerate(comment) VALUES(%s)', row)\n",
    "    print(row)\n",
    "    \n",
    "mydb.commit()\n",
    "cursor.close()\n",
    "print('Its Done')"
   ]
  },
  {
   "cell_type": "code",
   "execution_count": 2,
   "id": "7a1322a8",
   "metadata": {},
   "outputs": [
    {
     "name": "stdout",
     "output_type": "stream",
     "text": [
      "    Serial                                            comment           timestamp\n",
      "0        1  Cristiano Ronaldo match-winning goal in the Ch... 2021-09-13 00:59:33\n",
      "1        2  Data science is the study of data and how it c... 2021-09-13 00:59:56\n",
      "2        3  Virat Kohli is an Indian cricketer who is the ... 2021-09-13 01:50:47\n",
      "3        4  Data Science for Business teaches you how to e... 2021-09-13 01:54:45\n",
      "4        5  Edge AI is the processing of Artificial Intell... 2021-09-13 01:53:17\n",
      "5        6  Lionel Messi plays as a forward for Ligue 1 cl... 2021-09-13 01:54:34\n",
      "6        7  Football at the Summer Olympics has been inclu... 2021-09-13 01:57:58\n",
      "7        8  Elon Reeve Musk FRS is an entrepreneur and bus... 2021-09-13 01:58:51\n",
      "8        9  A programming language is a formal language co... 2021-09-13 02:00:01\n",
      "9       10  Rugby union, commonly known simply as rugby, i... 2021-09-13 02:02:23\n",
      "10      11  Usain St Leo Bolt is Jamaican sprinter who wid... 2021-09-13 02:03:19\n",
      "11      12  BMW serves purely as a status symbol for some ... 2021-09-13 02:04:24\n"
     ]
    }
   ],
   "source": [
    "sqlEngine       = create_engine('mysql+pymysql://root:@127.0.0.1', pool_recycle=3600)\n",
    "dbConnection    = sqlEngine.connect()\n",
    "frame           = pd.read_sql(\"select * from textgeneration.textgenerate\", dbConnection);\n",
    "\n",
    " \n",
    "pd.set_option('display.expand_frame_repr', False)\n",
    "print(frame)\n",
    "dbConnection.close()"
   ]
  },
  {
   "cell_type": "code",
   "execution_count": 3,
   "id": "bc5364e6",
   "metadata": {},
   "outputs": [],
   "source": [
    "## Save databasefile\n",
    "frame.to_csv(r'E:\\AiBeesAsst\\AI Bees Project\\Data Branch\\dbfile.csv',index=False)\n",
    "frame.to_csv(r'E:\\AiBeesAsst\\AI Bees Project\\static\\dbfile.csv',index=False)"
   ]
  },
  {
   "cell_type": "code",
   "execution_count": null,
   "id": "3403b0d2",
   "metadata": {},
   "outputs": [],
   "source": []
  }
 ],
 "metadata": {
  "kernelspec": {
   "display_name": "Python 3 (ipykernel)",
   "language": "python",
   "name": "python3"
  },
  "language_info": {
   "codemirror_mode": {
    "name": "ipython",
    "version": 3
   },
   "file_extension": ".py",
   "mimetype": "text/x-python",
   "name": "python",
   "nbconvert_exporter": "python",
   "pygments_lexer": "ipython3",
   "version": "3.7.8"
  }
 },
 "nbformat": 4,
 "nbformat_minor": 5
}
