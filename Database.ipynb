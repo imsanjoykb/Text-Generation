{
 "cells": [
  {
   "cell_type": "code",
   "execution_count": 4,
   "id": "4903aec8",
   "metadata": {},
   "outputs": [],
   "source": [
    "import csv\n",
    "import mysql.connector"
   ]
  },
  {
   "cell_type": "code",
   "execution_count": 9,
   "id": "8e977ee9",
   "metadata": {},
   "outputs": [
    {
     "name": "stdout",
     "output_type": "stream",
     "text": [
      "Database connected successfully!!\n"
     ]
    }
   ],
   "source": [
    "mydb = mysql.connector.connect(host = 'localhost', user = 'root', database = 'textgeneration')\n",
    "print('Database connected successfully!!')"
   ]
  },
  {
   "cell_type": "code",
   "execution_count": 10,
   "id": "3f7b2505",
   "metadata": {},
   "outputs": [
    {
     "name": "stdout",
     "output_type": "stream",
     "text": [
      "['Cristiano Ronaldo match-winning goal in the Champions League']\n",
      "Its Done\n"
     ]
    }
   ],
   "source": [
    "cursor = mydb.cursor()\n",
    "csv_data = csv.reader(open('generatefileupdated.csv'))\n",
    "for row in csv_data:\n",
    "    cursor.execute('INSERT INTO textgenerate(comment) VALUES(%s)', row)\n",
    "    print(row)\n",
    "    \n",
    "mydb.commit()\n",
    "cursor.close()\n",
    "print('Its Done')"
   ]
  },
  {
   "cell_type": "code",
   "execution_count": null,
   "id": "df51f54e",
   "metadata": {},
   "outputs": [],
   "source": []
  }
 ],
 "metadata": {
  "kernelspec": {
   "display_name": "Python 3 (ipykernel)",
   "language": "python",
   "name": "python3"
  },
  "language_info": {
   "codemirror_mode": {
    "name": "ipython",
    "version": 3
   },
   "file_extension": ".py",
   "mimetype": "text/x-python",
   "name": "python",
   "nbconvert_exporter": "python",
   "pygments_lexer": "ipython3",
   "version": "3.7.8"
  }
 },
 "nbformat": 4,
 "nbformat_minor": 5
}
