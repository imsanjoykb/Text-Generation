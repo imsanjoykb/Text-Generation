{
  "nbformat": 4,
  "nbformat_minor": 0,
  "metadata": {
    "colab": {
      "name": "Text Generation.ipynb",
      "provenance": []
    },
    "kernelspec": {
      "name": "python3",
      "display_name": "Python 3"
    },
    "language_info": {
      "name": "python"
    }
  },
  "cells": [
    {
      "cell_type": "markdown",
      "metadata": {
        "id": "2PWhzaBSBN7k"
      },
      "source": [
        "#### Author : Sanjoy Biswas\n",
        "#### Project : Text Generation With AI System\n",
        "#### Email : sanjoy.eee32@gmail.com"
      ]
    },
    {
      "cell_type": "code",
      "metadata": {
        "colab": {
          "base_uri": "https://localhost:8080/"
        },
        "id": "VcCPzfzDpifK",
        "outputId": "e2e504ae-e509-4b7d-f70b-c641d9b81b8d"
      },
      "source": [
        "\n",
        "!pip install transformers"
      ],
      "execution_count": 99,
      "outputs": [
        {
          "output_type": "stream",
          "name": "stdout",
          "text": [
            "Requirement already satisfied: transformers in /usr/local/lib/python3.7/dist-packages (4.10.2)\n",
            "Requirement already satisfied: tokenizers<0.11,>=0.10.1 in /usr/local/lib/python3.7/dist-packages (from transformers) (0.10.3)\n",
            "Requirement already satisfied: importlib-metadata in /usr/local/lib/python3.7/dist-packages (from transformers) (4.6.4)\n",
            "Requirement already satisfied: huggingface-hub>=0.0.12 in /usr/local/lib/python3.7/dist-packages (from transformers) (0.0.16)\n",
            "Requirement already satisfied: requests in /usr/local/lib/python3.7/dist-packages (from transformers) (2.23.0)\n",
            "Requirement already satisfied: numpy>=1.17 in /usr/local/lib/python3.7/dist-packages (from transformers) (1.19.5)\n",
            "Requirement already satisfied: packaging in /usr/local/lib/python3.7/dist-packages (from transformers) (21.0)\n",
            "Requirement already satisfied: sacremoses in /usr/local/lib/python3.7/dist-packages (from transformers) (0.0.45)\n",
            "Requirement already satisfied: filelock in /usr/local/lib/python3.7/dist-packages (from transformers) (3.0.12)\n",
            "Requirement already satisfied: pyyaml>=5.1 in /usr/local/lib/python3.7/dist-packages (from transformers) (5.4.1)\n",
            "Requirement already satisfied: regex!=2019.12.17 in /usr/local/lib/python3.7/dist-packages (from transformers) (2019.12.20)\n",
            "Requirement already satisfied: tqdm>=4.27 in /usr/local/lib/python3.7/dist-packages (from transformers) (4.62.0)\n",
            "Requirement already satisfied: typing-extensions in /usr/local/lib/python3.7/dist-packages (from huggingface-hub>=0.0.12->transformers) (3.7.4.3)\n",
            "Requirement already satisfied: pyparsing>=2.0.2 in /usr/local/lib/python3.7/dist-packages (from packaging->transformers) (2.4.7)\n",
            "Requirement already satisfied: zipp>=0.5 in /usr/local/lib/python3.7/dist-packages (from importlib-metadata->transformers) (3.5.0)\n",
            "Requirement already satisfied: certifi>=2017.4.17 in /usr/local/lib/python3.7/dist-packages (from requests->transformers) (2021.5.30)\n",
            "Requirement already satisfied: chardet<4,>=3.0.2 in /usr/local/lib/python3.7/dist-packages (from requests->transformers) (3.0.4)\n",
            "Requirement already satisfied: idna<3,>=2.5 in /usr/local/lib/python3.7/dist-packages (from requests->transformers) (2.10)\n",
            "Requirement already satisfied: urllib3!=1.25.0,!=1.25.1,<1.26,>=1.21.1 in /usr/local/lib/python3.7/dist-packages (from requests->transformers) (1.24.3)\n",
            "Requirement already satisfied: six in /usr/local/lib/python3.7/dist-packages (from sacremoses->transformers) (1.15.0)\n",
            "Requirement already satisfied: click in /usr/local/lib/python3.7/dist-packages (from sacremoses->transformers) (7.1.2)\n",
            "Requirement already satisfied: joblib in /usr/local/lib/python3.7/dist-packages (from sacremoses->transformers) (1.0.1)\n"
          ]
        }
      ]
    },
    {
      "cell_type": "markdown",
      "metadata": {
        "id": "57waIshQtMVY"
      },
      "source": [
        "### Import Necessary Libraries"
      ]
    },
    {
      "cell_type": "code",
      "metadata": {
        "id": "Enu94OVPpmYd"
      },
      "source": [
        "import numpy as np\n",
        "import pandas as pd\n",
        "import seaborn as sns\n",
        "import urllib\n",
        "import re\n",
        "import os\n",
        "import tensorflow as tf\n",
        "from transformers import GPT2LMHeadModel, GPT2Tokenizer"
      ],
      "execution_count": 100,
      "outputs": []
    },
    {
      "cell_type": "markdown",
      "metadata": {
        "id": "mSk2bJyaz4CJ"
      },
      "source": [
        "### Import Tokenizer"
      ]
    },
    {
      "cell_type": "code",
      "metadata": {
        "id": "23ME2FAgpucz"
      },
      "source": [
        "## GPT-2 is a transformers model pretrained on a very large corpus of English data\n",
        "## pretrained on the raw texts only, with no humans labelling them with autometic Process\n",
        "## generating texts from a prompt\n",
        "\n",
        "tokenizer = GPT2Tokenizer.from_pretrained(\"gpt2-large\")\n"
      ],
      "execution_count": 101,
      "outputs": []
    },
    {
      "cell_type": "markdown",
      "metadata": {
        "id": "ChCv27ihz1AZ"
      },
      "source": [
        "### Import Model"
      ]
    },
    {
      "cell_type": "code",
      "metadata": {
        "id": "N3jjMI6PpyK6"
      },
      "source": [
        "## GPT-2 stack of transformer decoders which makes it so powerful in generating meaningful texts\n",
        "\n",
        "model = GPT2LMHeadModel.from_pretrained(\"gpt2-large\", pad_token_id=tokenizer.eos_token_id)"
      ],
      "execution_count": 102,
      "outputs": []
    },
    {
      "cell_type": "markdown",
      "metadata": {
        "id": "H4Th9_lX0hoJ"
      },
      "source": [
        "### Set The Topic"
      ]
    },
    {
      "cell_type": "code",
      "metadata": {
        "id": "_oxAISXpp1Hr"
      },
      "source": [
        "## Let’s take an example test text like\n",
        "\n",
        "sentence = 'Cristiano Ronaldo match'"
      ],
      "execution_count": 103,
      "outputs": []
    },
    {
      "cell_type": "markdown",
      "metadata": {
        "id": "7LE7Ni9R1Aof"
      },
      "source": [
        "## Encode the input i.e. topic"
      ]
    },
    {
      "cell_type": "code",
      "metadata": {
        "id": "omLKoepTp1vy"
      },
      "source": [
        "## Tokenize this input text for GPT input i.e. converting text to integer indices\n",
        "\n",
        "input_ids = tokenizer.encode(sentence, return_tensors='pt')"
      ],
      "execution_count": 104,
      "outputs": []
    },
    {
      "cell_type": "code",
      "metadata": {
        "colab": {
          "base_uri": "https://localhost:8080/"
        },
        "id": "9eoPu_fhqX4K",
        "outputId": "53b75432-8d1d-469d-da2a-713be7270219"
      },
      "source": [
        "\n",
        "input_ids"
      ],
      "execution_count": 105,
      "outputs": [
        {
          "output_type": "execute_result",
          "data": {
            "text/plain": [
              "tensor([[   34,  1585, 10115, 36309,  2872]])"
            ]
          },
          "metadata": {},
          "execution_count": 105
        }
      ]
    },
    {
      "cell_type": "code",
      "metadata": {
        "id": "YTZcIz27qY07"
      },
      "source": [
        "## max_lenth-Number of Words in the Article\n",
        "## num_beams-Number of different combination of words that can be chained together\n",
        "## no_repeat_ngram_size-No of words that be combined together and repeated, example: ['benefits of sleeping' can be repeated 2 times but not more ]\n",
        "## generate text until the output length (which includes the context length) reaches 50\n",
        "\n",
        "output = model.generate(\n",
        "    input_ids, \n",
        "    max_length=30, \n",
        "    num_beams=5, \n",
        "    no_repeat_ngram_size=2, \n",
        "    early_stopping=True\n",
        "    )"
      ],
      "execution_count": 106,
      "outputs": []
    },
    {
      "cell_type": "code",
      "metadata": {
        "colab": {
          "base_uri": "https://localhost:8080/"
        },
        "id": "qNk3V6O-qbaT",
        "outputId": "e2c9edb4-0043-43ba-9720-b43e3994d02a"
      },
      "source": [
        "## Tensor Output\n",
        "output"
      ],
      "execution_count": 107,
      "outputs": [
        {
          "output_type": "execute_result",
          "data": {
            "text/plain": [
              "tensor([[   34,  1585, 10115, 36309,  2872,    12, 14463,  3061,   287,   262,\n",
              "          6662,  4041,  2457,  1028,  1629, 47286, 14708,    13,   198,   198,\n",
              "         23672, 41476,  7781,   262,  8464,   287,  3131,    12,  2435,   284]])"
            ]
          },
          "metadata": {},
          "execution_count": 107
        }
      ]
    },
    {
      "cell_type": "code",
      "metadata": {
        "colab": {
          "base_uri": "https://localhost:8080/"
        },
        "id": "0Cl4ebWoqfnS",
        "outputId": "24bfe821-eb8b-4a37-bf88-8e54ab5140c1"
      },
      "source": [
        "\n",
        "## This is our tokenized text, if want to decode these indices values, can do so by decode method provided by the same tokenizer.\n",
        "print(tokenizer.decode(output[0], skip_special_tokens=True))"
      ],
      "execution_count": 108,
      "outputs": [
        {
          "output_type": "stream",
          "name": "stdout",
          "text": [
            "Cristiano Ronaldo match-winning goal in the Champions League final against Atletico Madrid.\n",
            "\n",
            "Ronaldo scored the winner in extra-time to\n"
          ]
        }
      ]
    },
    {
      "cell_type": "markdown",
      "metadata": {
        "id": "4QXceins5biL"
      },
      "source": [
        "### Save the output in a variable"
      ]
    },
    {
      "cell_type": "code",
      "metadata": {
        "id": "bqKQ5iLLBwSo"
      },
      "source": [
        "text = tokenizer.decode(output[0], skip_special_tokens=True).join(text.split(\".\")[:-1]) + \".\""
      ],
      "execution_count": 109,
      "outputs": []
    },
    {
      "cell_type": "code",
      "metadata": {
        "colab": {
          "base_uri": "https://localhost:8080/",
          "height": 35
        },
        "id": "ntxUkFywLgUH",
        "outputId": "0e861a1a-da29-40ad-9301-152b400adb3a"
      },
      "source": [
        "text"
      ],
      "execution_count": 110,
      "outputs": [
        {
          "output_type": "execute_result",
          "data": {
            "application/vnd.google.colaboratory.intrinsic+json": {
              "type": "string"
            },
            "text/plain": [
              "'Cristiano Ronaldo match-winning goal in the Champions League final against Atletico Madrid.'"
            ]
          },
          "metadata": {},
          "execution_count": 110
        }
      ]
    },
    {
      "cell_type": "markdown",
      "metadata": {
        "id": "6TWOml-yfyFy"
      },
      "source": [
        "### Install & Import Gradio"
      ]
    },
    {
      "cell_type": "code",
      "metadata": {
        "id": "S_hr4lIYDavg"
      },
      "source": [
        "!pip install -q gradio"
      ],
      "execution_count": 111,
      "outputs": []
    },
    {
      "cell_type": "code",
      "metadata": {
        "id": "727eVd2zDaym"
      },
      "source": [
        "import gradio as gr"
      ],
      "execution_count": 112,
      "outputs": []
    },
    {
      "cell_type": "code",
      "metadata": {
        "id": "S2M9VQCkPd4X"
      },
      "source": [
        "def generate_text(sentence):\n",
        "    input_ids = tokenizer.encode(sentence, return_tensors='pt')\n",
        "    beam_output = model.generate(input_ids, max_length=30, num_beams=5, no_repeat_ngram_size=2, early_stopping=True)\n",
        "    output = tokenizer.decode(beam_output[0], skip_special_tokens=True, clean_up_tokenization_spaces=True)\n",
        "    return \".\".join(output.split(\".\")[:-1]) + \".\""
      ],
      "execution_count": 113,
      "outputs": []
    },
    {
      "cell_type": "markdown",
      "metadata": {
        "id": "SsFJiEGmgHt5"
      },
      "source": [
        "### Creating Gradio Interface"
      ]
    },
    {
      "cell_type": "code",
      "metadata": {
        "colab": {
          "base_uri": "https://localhost:8080/",
          "height": 640
        },
        "id": "MgvTQYvLKuh_",
        "outputId": "07041acb-53cc-4834-be6c-a51719d21b7d"
      },
      "source": [
        "output_text = gr.outputs.Textbox()\n",
        "gr.Interface(generate_text,\"textbox\", output_text, title=\"Text Generation\",\n",
        "             description=\"Generate Text and Comment With AI System\").launch()"
      ],
      "execution_count": 114,
      "outputs": [
        {
          "output_type": "stream",
          "name": "stdout",
          "text": [
            "Colab notebook detected. To show errors in colab notebook, set `debug=True` in `launch()`\n",
            "This share link will expire in 24 hours. If you need a permanent link, visit: https://gradio.app/introducing-hosted (NEW!)\n",
            "Running on External URL: https://40973.gradio.app\n",
            "Interface loading below...\n"
          ]
        },
        {
          "output_type": "display_data",
          "data": {
            "text/html": [
              "\n",
              "        <iframe\n",
              "            width=\"900\"\n",
              "            height=\"500\"\n",
              "            src=\"https://40973.gradio.app\"\n",
              "            frameborder=\"0\"\n",
              "            allowfullscreen\n",
              "        ></iframe>\n",
              "        "
            ],
            "text/plain": [
              "<IPython.lib.display.IFrame at 0x7f69b8271a90>"
            ]
          },
          "metadata": {}
        },
        {
          "output_type": "execute_result",
          "data": {
            "text/plain": [
              "(<Flask 'gradio.networking'>,\n",
              " 'http://127.0.0.1:7865/',\n",
              " 'https://40973.gradio.app')"
            ]
          },
          "metadata": {},
          "execution_count": 114
        }
      ]
    },
    {
      "cell_type": "markdown",
      "metadata": {
        "id": "NDACwKg-5jB3"
      },
      "source": [
        "### Save Output as CSV File"
      ]
    },
    {
      "cell_type": "code",
      "metadata": {
        "id": "O4ekCjZPB8G3"
      },
      "source": [
        "with open('generatefile.csv','w') as f:\n",
        "  f.write(text)"
      ],
      "execution_count": 115,
      "outputs": []
    },
    {
      "cell_type": "markdown",
      "metadata": {
        "id": "FeSSK0Yf8OHY"
      },
      "source": [
        "### Generate Pickle File"
      ]
    },
    {
      "cell_type": "code",
      "metadata": {
        "id": "Z0uzWqUEqpBi"
      },
      "source": [
        "\n",
        "import pickle\n",
        "pickle.dump(model,open('nlp_model.pkl','wb'))"
      ],
      "execution_count": 116,
      "outputs": []
    },
    {
      "cell_type": "code",
      "metadata": {
        "id": "NIhWtvSKgr5s"
      },
      "source": [
        "pickle.dump(text,open('nlp_text.pkl','wb'))"
      ],
      "execution_count": 117,
      "outputs": []
    },
    {
      "cell_type": "code",
      "metadata": {
        "id": "kS0nfw6JEbT6"
      },
      "source": [
        ""
      ],
      "execution_count": 117,
      "outputs": []
    }
  ]
}